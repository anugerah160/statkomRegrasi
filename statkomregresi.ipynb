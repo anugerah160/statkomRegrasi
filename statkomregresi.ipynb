{
  "nbformat": 4,
  "nbformat_minor": 0,
  "metadata": {
    "colab": {
      "provenance": []
    },
    "kernelspec": {
      "name": "python3",
      "display_name": "Python 3"
    },
    "language_info": {
      "name": "python"
    }
  },
  "cells": [
    {
      "cell_type": "code",
      "execution_count": null,
      "metadata": {
        "colab": {
          "base_uri": "https://localhost:8080/"
        },
        "id": "nbdyrVXyLfUM",
        "outputId": "16f6d768-f5f0-4058-f88e-a121d36b6f5f"
      },
      "outputs": [
        {
          "output_type": "stream",
          "name": "stdout",
          "text": [
            "Persamaan garis regresi: y = 5.14x + 1.03\n",
            "Kesalahan baku (Standard Deviation): 1.47\n",
            "Koefisien determinasi: 0.9821\n",
            "Nilai t: 18.1553\n",
            "Nilai p: 0.0000\n",
            "Total variansi: 847.00\n",
            "Selang kepercayaan untuk b0: (-3.6376614896556303, 5.693217045211173)\n"
          ]
        }
      ],
      "source": [
        "import numpy as np\n",
        "from scipy import stats\n",
        "\n",
        "#Anugerah Putra Mahanda\n",
        "\n",
        "# Data pengalaman kerja dan omset penjualan\n",
        "pengalaman_kerja = np.array([6, 9, 3, 8, 7, 5, 8, 10])\n",
        "omset_penjualan = np.array([30, 49, 18, 42, 39, 25, 41, 52])\n",
        "\n",
        "# Menghitung persamaan garis regresi\n",
        "slope, intercept, r_value, p_value, std_err = stats.linregress(pengalaman_kerja, omset_penjualan)\n",
        "\n",
        "# Menampilkan persamaan garis regresi\n",
        "print(f'Persamaan garis regresi: y = {slope:.2f}x + {intercept:.2f}')\n",
        "\n",
        "# Menghitung kesalahan baku\n",
        "predicted = slope * pengalaman_kerja + intercept\n",
        "residuals = omset_penjualan - predicted\n",
        "mse = np.mean(residuals**2)\n",
        "std_dev = np.sqrt(mse)\n",
        "print(f'Kesalahan baku (Standard Deviation): {std_dev:.2f}')\n",
        "\n",
        "# Menghitung koefisien determinasi\n",
        "r_squared = r_value**2\n",
        "print(f'Koefisien determinasi: {r_squared:.4f}')\n",
        "\n",
        "# Menghitung uji t\n",
        "n = len(pengalaman_kerja)\n",
        "df = n - 2\n",
        "t_value = r_value * np.sqrt(df / (1 - r_value**2))\n",
        "p_value = 2 * (1 - stats.t.cdf(abs(t_value), df))\n",
        "print(f'Nilai t: {t_value:.4f}')\n",
        "print(f'Nilai p: {p_value:.4f}')\n",
        "\n",
        "# Menghitung total variansi\n",
        "total_var = np.var(omset_penjualan) * (n - 1)\n",
        "print(f'Total variansi: {total_var:.2f}')\n",
        "\n",
        "# Menghitung selang kepercayaan untuk b0 dengan koefisien kepercayaan 95%\n",
        "alpha = 0.05\n",
        "t_critical = stats.t.ppf(1 - alpha / 2, df)\n",
        "b0_std_err = std_dev * np.sqrt((1 / n) + (np.mean(pengalaman_kerja)**2) / ((n - 1) * np.var(pengalaman_kerja)))\n",
        "b0_conf_interval = (intercept - t_critical * b0_std_err, intercept + t_critical * b0_std_err)\n",
        "print(f'Selang kepercayaan untuk b0: {b0_conf_interval}')\n"
      ]
    },
    {
      "cell_type": "code",
      "source": [
        "from scipy import stats\n",
        "\n",
        "#Anugerah Putra Mahanda\n",
        "\n",
        "# Data\n",
        "data = [62, 48, 27, 68, 69, 70, 33, 59, 40, 23, 48, 57]\n",
        "\n",
        "# Uji normalitas dengan Shapiro-Wilk\n",
        "stat, p_value = stats.shapiro(data)\n",
        "\n",
        "alpha = 0.05\n",
        "print(f\"Nilai statistik: {stat:.4f}, p-value: {p_value:.4f}\")\n",
        "\n",
        "if p_value > alpha:\n",
        "    print(\"Data terdistribusi normal(Tidak dapat menolak H0)\")\n",
        "else:\n",
        "    print(\"Data tidak terdistribusi normal(Menolak H0)\")\n",
        "\n"
      ],
      "metadata": {
        "colab": {
          "base_uri": "https://localhost:8080/"
        },
        "id": "EnHOExkFLkkj",
        "outputId": "7b3bee8b-7fd4-4e63-ddf3-87806839c486"
      },
      "execution_count": null,
      "outputs": [
        {
          "output_type": "stream",
          "name": "stdout",
          "text": [
            "Nilai statistik: 0.9216, p-value: 0.2992\n",
            "Data terdistribusi normal(Tidak dapat menolak H0)\n"
          ]
        }
      ]
    },
    {
      "cell_type": "code",
      "source": [
        "from scipy import stats\n",
        "\n",
        "#Anugerah Putra Mahanda\n",
        "\n",
        "# Data sebelum dan sesudah\n",
        "sebelum = [60, 63, 45, 55, 70, 73, 45, 50, 55, 60, 65, 47]\n",
        "sesudah = [70, 85, 65, 78, 60, 70, 75, 70, 55, 80, 50, 70]\n",
        "\n",
        "# Melakukan uji t berpasangan\n",
        "stat, p_value = stats.ttest_rel(sebelum, sesudah)\n",
        "\n",
        "# Nilai rata-rata\n",
        "mean_sebelum = sum(sebelum) / len(sebelum)\n",
        "mean_sesudah = sum(sesudah) / len(sesudah)\n",
        "\n",
        "# Menampilkan hasil\n",
        "alpha = 0.05\n",
        "print(f\"Nilai rata-rata sebelum: {mean_sebelum:.2f}\")\n",
        "print(f\"Nilai rata-rata sesudah: {mean_sesudah:.2f}\")\n",
        "\n",
        "print(\"\\nHasil Uji T Berpasangan:\")\n",
        "print(f\"Nilai statistik uji t: {stat:.4f}\")\n",
        "print(f\"Nilai p-value: {p_value:.4f}\")\n",
        "\n",
        "if p_value < alpha:\n",
        "    print(\"\\nTerdapat perbedaan signifikan antara rata-rata nilai responden sebelum dan sesudah penyuluhan\")\n",
        "else:\n",
        "    print(\"\\nTidak terdapat perbedaan signifikan antara rata-rata nilai responden sebelum dan sesudah penyuluhan\")\n"
      ],
      "metadata": {
        "colab": {
          "base_uri": "https://localhost:8080/"
        },
        "id": "eB-xkJifLrGS",
        "outputId": "f55d6065-9991-4981-c434-e67b1854c0bc"
      },
      "execution_count": null,
      "outputs": [
        {
          "output_type": "stream",
          "name": "stdout",
          "text": [
            "Nilai rata-rata sebelum: 57.33\n",
            "Nilai rata-rata sesudah: 69.00\n",
            "\n",
            "Hasil Uji T Berpasangan:\n",
            "Nilai statistik uji t: -2.7121\n",
            "Nilai p-value: 0.0202\n",
            "\n",
            "Terdapat perbedaan signifikan antara rata-rata nilai responden sebelum dan sesudah penyuluhan\n"
          ]
        }
      ]
    }
  ]
}